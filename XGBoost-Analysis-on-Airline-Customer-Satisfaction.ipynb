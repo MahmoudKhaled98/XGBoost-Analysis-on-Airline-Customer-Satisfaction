{
 "cells": [
  {
   "cell_type": "markdown",
   "metadata": {
    "id": "yugMU9MjJtBl"
   },
   "source": [
    "# XGBoost Analysis on Airline Customer Satisfaction"
   ]
  },
  {
   "cell_type": "markdown",
   "metadata": {
    "id": "EzWqJunmJotv"
   },
   "source": [
    "## Introduction\n",
    "\n",
    "The XGBoost model is a very powerful extension of decision trees.\n",
    "\n",
    "This project is a continuation of the airlines project in which I built decision tree and random forest models. I will use the same data, but this time I will train, tune, and evaluate an XGBoost model. I’ll then compare the performance of all three models and decide which model is best. Finally, I’ll explore the feature importances of the model and identify the features that most contribute to customer satisfaction."
   ]
  },
  {
   "cell_type": "markdown",
   "metadata": {
    "id": "yTVinL1hJqoy"
   },
   "source": [
    "## Step 1: Imports"
   ]
  },
  {
   "cell_type": "markdown",
   "metadata": {
    "id": "DDIRpqkZJ4S8"
   },
   "source": [
    "### Import packages\n",
    "\n",
    "Begin with the import statements. First, import `pandas`, `numpy`, and `matplotlib` for data preparation. Next, import scikit-learn (`sklearn`) for model preparation and evaluation. Then, import `xgboost`, which provides the classification algorithm I'll implement to formulate the predictive model."
   ]
  },
  {
   "cell_type": "code",
   "execution_count": 1,
   "metadata": {
    "id": "1nDjAJPa4lVZ"
   },
   "outputs": [],
   "source": [
    "# Import relevant libraries and modules.\n",
    "\n",
    "\n",
    "import numpy as np\n",
    "import pandas as pd\n",
    "import matplotlib as plt\n",
    "import pickle\n",
    "\n",
    "from sklearn.model_selection import train_test_split\n",
    "from sklearn.model_selection import GridSearchCV\n",
    "from sklearn import metrics\n",
    "\n",
    "from xgboost import XGBClassifier\n",
    "from xgboost import plot_importance"
   ]
  },
  {
   "cell_type": "markdown",
   "metadata": {
    "id": "hKylHziGzY3X"
   },
   "source": [
    "### Load the dataset\n",
    "\n",
    "To formulate the model, `pandas` is used to import a csv of airline passenger satisfaction data called `Invistico_Airline.csv`. This DataFrame is called `airline_data`."
   ]
  },
  {
   "cell_type": "code",
   "execution_count": 2,
   "metadata": {
    "id": "4ebqpNcm4BDH"
   },
   "outputs": [],
   "source": [
    "# RUN THIS CELL TO IMPORT THE DATA. \n",
    "airline_data = pd.read_csv('Invistico_Airline.csv', error_bad_lines=False)"
   ]
  },
  {
   "cell_type": "markdown",
   "metadata": {
    "id": "yXvtnFn5oBIG"
   },
   "source": [
    "### Displaying the data"
   ]
  },
  {
   "cell_type": "markdown",
   "metadata": {
    "id": "6bg_6M3IRgMU"
   },
   "source": [
    "Examining the first 10 rows of data to familiarize yourself with the dataset."
   ]
  },
  {
   "cell_type": "code",
   "execution_count": 3,
   "metadata": {
    "id": "JWu8u19C2sn1"
   },
   "outputs": [
    {
     "data": {
      "text/html": [
       "<div>\n",
       "<style scoped>\n",
       "    .dataframe tbody tr th:only-of-type {\n",
       "        vertical-align: middle;\n",
       "    }\n",
       "\n",
       "    .dataframe tbody tr th {\n",
       "        vertical-align: top;\n",
       "    }\n",
       "\n",
       "    .dataframe thead th {\n",
       "        text-align: right;\n",
       "    }\n",
       "</style>\n",
       "<table border=\"1\" class=\"dataframe\">\n",
       "  <thead>\n",
       "    <tr style=\"text-align: right;\">\n",
       "      <th></th>\n",
       "      <th>satisfaction</th>\n",
       "      <th>Customer Type</th>\n",
       "      <th>Age</th>\n",
       "      <th>Type of Travel</th>\n",
       "      <th>Class</th>\n",
       "      <th>Flight Distance</th>\n",
       "      <th>Seat comfort</th>\n",
       "      <th>Departure/Arrival time convenient</th>\n",
       "      <th>Food and drink</th>\n",
       "      <th>Gate location</th>\n",
       "      <th>...</th>\n",
       "      <th>Online support</th>\n",
       "      <th>Ease of Online booking</th>\n",
       "      <th>On-board service</th>\n",
       "      <th>Leg room service</th>\n",
       "      <th>Baggage handling</th>\n",
       "      <th>Checkin service</th>\n",
       "      <th>Cleanliness</th>\n",
       "      <th>Online boarding</th>\n",
       "      <th>Departure Delay in Minutes</th>\n",
       "      <th>Arrival Delay in Minutes</th>\n",
       "    </tr>\n",
       "  </thead>\n",
       "  <tbody>\n",
       "    <tr>\n",
       "      <th>0</th>\n",
       "      <td>satisfied</td>\n",
       "      <td>Loyal Customer</td>\n",
       "      <td>65</td>\n",
       "      <td>Personal Travel</td>\n",
       "      <td>Eco</td>\n",
       "      <td>265</td>\n",
       "      <td>0</td>\n",
       "      <td>0</td>\n",
       "      <td>0</td>\n",
       "      <td>2</td>\n",
       "      <td>...</td>\n",
       "      <td>2</td>\n",
       "      <td>3</td>\n",
       "      <td>3</td>\n",
       "      <td>0</td>\n",
       "      <td>3</td>\n",
       "      <td>5</td>\n",
       "      <td>3</td>\n",
       "      <td>2</td>\n",
       "      <td>0</td>\n",
       "      <td>0.0</td>\n",
       "    </tr>\n",
       "    <tr>\n",
       "      <th>1</th>\n",
       "      <td>satisfied</td>\n",
       "      <td>Loyal Customer</td>\n",
       "      <td>47</td>\n",
       "      <td>Personal Travel</td>\n",
       "      <td>Business</td>\n",
       "      <td>2464</td>\n",
       "      <td>0</td>\n",
       "      <td>0</td>\n",
       "      <td>0</td>\n",
       "      <td>3</td>\n",
       "      <td>...</td>\n",
       "      <td>2</td>\n",
       "      <td>3</td>\n",
       "      <td>4</td>\n",
       "      <td>4</td>\n",
       "      <td>4</td>\n",
       "      <td>2</td>\n",
       "      <td>3</td>\n",
       "      <td>2</td>\n",
       "      <td>310</td>\n",
       "      <td>305.0</td>\n",
       "    </tr>\n",
       "    <tr>\n",
       "      <th>2</th>\n",
       "      <td>satisfied</td>\n",
       "      <td>Loyal Customer</td>\n",
       "      <td>15</td>\n",
       "      <td>Personal Travel</td>\n",
       "      <td>Eco</td>\n",
       "      <td>2138</td>\n",
       "      <td>0</td>\n",
       "      <td>0</td>\n",
       "      <td>0</td>\n",
       "      <td>3</td>\n",
       "      <td>...</td>\n",
       "      <td>2</td>\n",
       "      <td>2</td>\n",
       "      <td>3</td>\n",
       "      <td>3</td>\n",
       "      <td>4</td>\n",
       "      <td>4</td>\n",
       "      <td>4</td>\n",
       "      <td>2</td>\n",
       "      <td>0</td>\n",
       "      <td>0.0</td>\n",
       "    </tr>\n",
       "    <tr>\n",
       "      <th>3</th>\n",
       "      <td>satisfied</td>\n",
       "      <td>Loyal Customer</td>\n",
       "      <td>60</td>\n",
       "      <td>Personal Travel</td>\n",
       "      <td>Eco</td>\n",
       "      <td>623</td>\n",
       "      <td>0</td>\n",
       "      <td>0</td>\n",
       "      <td>0</td>\n",
       "      <td>3</td>\n",
       "      <td>...</td>\n",
       "      <td>3</td>\n",
       "      <td>1</td>\n",
       "      <td>1</td>\n",
       "      <td>0</td>\n",
       "      <td>1</td>\n",
       "      <td>4</td>\n",
       "      <td>1</td>\n",
       "      <td>3</td>\n",
       "      <td>0</td>\n",
       "      <td>0.0</td>\n",
       "    </tr>\n",
       "    <tr>\n",
       "      <th>4</th>\n",
       "      <td>satisfied</td>\n",
       "      <td>Loyal Customer</td>\n",
       "      <td>70</td>\n",
       "      <td>Personal Travel</td>\n",
       "      <td>Eco</td>\n",
       "      <td>354</td>\n",
       "      <td>0</td>\n",
       "      <td>0</td>\n",
       "      <td>0</td>\n",
       "      <td>3</td>\n",
       "      <td>...</td>\n",
       "      <td>4</td>\n",
       "      <td>2</td>\n",
       "      <td>2</td>\n",
       "      <td>0</td>\n",
       "      <td>2</td>\n",
       "      <td>4</td>\n",
       "      <td>2</td>\n",
       "      <td>5</td>\n",
       "      <td>0</td>\n",
       "      <td>0.0</td>\n",
       "    </tr>\n",
       "  </tbody>\n",
       "</table>\n",
       "<p>5 rows × 22 columns</p>\n",
       "</div>"
      ],
      "text/plain": [
       "  satisfaction   Customer Type  Age   Type of Travel     Class  \\\n",
       "0    satisfied  Loyal Customer   65  Personal Travel       Eco   \n",
       "1    satisfied  Loyal Customer   47  Personal Travel  Business   \n",
       "2    satisfied  Loyal Customer   15  Personal Travel       Eco   \n",
       "3    satisfied  Loyal Customer   60  Personal Travel       Eco   \n",
       "4    satisfied  Loyal Customer   70  Personal Travel       Eco   \n",
       "\n",
       "   Flight Distance  Seat comfort  Departure/Arrival time convenient  \\\n",
       "0              265             0                                  0   \n",
       "1             2464             0                                  0   \n",
       "2             2138             0                                  0   \n",
       "3              623             0                                  0   \n",
       "4              354             0                                  0   \n",
       "\n",
       "   Food and drink  Gate location  ...  Online support  Ease of Online booking  \\\n",
       "0               0              2  ...               2                       3   \n",
       "1               0              3  ...               2                       3   \n",
       "2               0              3  ...               2                       2   \n",
       "3               0              3  ...               3                       1   \n",
       "4               0              3  ...               4                       2   \n",
       "\n",
       "   On-board service  Leg room service  Baggage handling  Checkin service  \\\n",
       "0                 3                 0                 3                5   \n",
       "1                 4                 4                 4                2   \n",
       "2                 3                 3                 4                4   \n",
       "3                 1                 0                 1                4   \n",
       "4                 2                 0                 2                4   \n",
       "\n",
       "   Cleanliness  Online boarding  Departure Delay in Minutes  \\\n",
       "0            3                2                           0   \n",
       "1            3                2                         310   \n",
       "2            4                2                           0   \n",
       "3            1                3                           0   \n",
       "4            2                5                           0   \n",
       "\n",
       "   Arrival Delay in Minutes  \n",
       "0                       0.0  \n",
       "1                     305.0  \n",
       "2                       0.0  \n",
       "3                       0.0  \n",
       "4                       0.0  \n",
       "\n",
       "[5 rows x 22 columns]"
      ]
     },
     "execution_count": 3,
     "metadata": {},
     "output_type": "execute_result"
    }
   ],
   "source": [
    "# Display the first ten rows of data.\n",
    "airline_data.head()"
   ]
  },
  {
   "cell_type": "markdown",
   "metadata": {
    "id": "ADuU5IWb04cu"
   },
   "source": [
    "### Displaying the data type for each column\n",
    "\n",
    "Observing the types of data present within this dataset."
   ]
  },
  {
   "cell_type": "code",
   "execution_count": 4,
   "metadata": {
    "id": "ABDz9TMu04cv"
   },
   "outputs": [
    {
     "data": {
      "text/plain": [
       "satisfaction                          object\n",
       "Customer Type                         object\n",
       "Age                                    int64\n",
       "Type of Travel                        object\n",
       "Class                                 object\n",
       "Flight Distance                        int64\n",
       "Seat comfort                           int64\n",
       "Departure/Arrival time convenient      int64\n",
       "Food and drink                         int64\n",
       "Gate location                          int64\n",
       "Inflight wifi service                  int64\n",
       "Inflight entertainment                 int64\n",
       "Online support                         int64\n",
       "Ease of Online booking                 int64\n",
       "On-board service                       int64\n",
       "Leg room service                       int64\n",
       "Baggage handling                       int64\n",
       "Checkin service                        int64\n",
       "Cleanliness                            int64\n",
       "Online boarding                        int64\n",
       "Departure Delay in Minutes             int64\n",
       "Arrival Delay in Minutes             float64\n",
       "dtype: object"
      ]
     },
     "execution_count": 4,
     "metadata": {},
     "output_type": "execute_result"
    }
   ],
   "source": [
    "# Display the data type for each column in the DataFrame.\n",
    "airline_data.dtypes"
   ]
  },
  {
   "cell_type": "markdown",
   "metadata": {
    "id": "ymp_LP1bVz-q"
   },
   "source": [
    "\n",
    "- `satisfaction` represents the classification variable to be predicted.\n",
    "- Many of these variables seem like meaningful predictors of satisfaction. In particular, delays (either departure or arrival) may be negatively correlated with satisfaction."
   ]
  },
  {
   "cell_type": "markdown",
   "metadata": {
    "id": "4zz8claq0Swi"
   },
   "source": [
    "## Step 2: Model preparation\n",
    "\n",
    "Before proceeding with modeling, I'll consider which metrics I will ultimately want to leverage to evaluate the model."
   ]
  },
  {
   "cell_type": "markdown",
   "metadata": {
    "id": "tWVDNggPeeiE"
   },
   "source": [
    "- As this is a binary classfication problem, it will be important to evaluate not just accuracy, but the balance of false positives and false negatives that the model's predictions provide. Therefore, precision, recall, and ultimately the F1 score will be excellent metrics to use.\n",
    "- The ROC AUC (Area Under the Receiver Operating Characteristic) score is also suited to this type of modeling."
   ]
  },
  {
   "cell_type": "markdown",
   "metadata": {
    "id": "8kgPx_MP0cuc"
   },
   "source": [
    "### Preparing the data for predictions\n",
    "\n",
    "There are several non-numerical variables (`object` data types) within the dataset.\n",
    "\n",
    "To prepare this DataFrame for modeling, first I'll convert these variables into a numerical format."
   ]
  },
  {
   "cell_type": "code",
   "execution_count": 5,
   "metadata": {
    "id": "03d00d56"
   },
   "outputs": [],
   "source": [
    "# Convert the object predictor variables to numerical dummies.\n",
    "airline_data_dummies = pd.get_dummies(airline_data, columns=['satisfaction','Customer Type','Type of Travel','Class'])"
   ]
  },
  {
   "cell_type": "markdown",
   "metadata": {
    "id": "FbDWO7ai04cy"
   },
   "source": [
    "### Isolating the target and predictor variables"
   ]
  },
  {
   "cell_type": "code",
   "execution_count": 7,
   "metadata": {
    "id": "xO46EzS8oBIG"
   },
   "outputs": [],
   "source": [
    "# Define the y (target) variable.\n",
    "y = airline_data_dummies['satisfaction_satisfied']\n",
    "\n",
    "# Define the X (predictor) variables.\n",
    "X = airline_data_dummies.drop(['satisfaction_satisfied','satisfaction_dissatisfied'],axis =1)"
   ]
  },
  {
   "cell_type": "markdown",
   "metadata": {
    "id": "cQ-wo4UOoBII"
   },
   "source": [
    "### Dividing the data \n",
    "\n",
    "Dividing the data into a training set `75% of the data` and test set `25% of the data`. This is an important step in the process, as it allows  to reserve a part of the data that the model has not used to test how well the model generalizes (or performs) on new data."
   ]
  },
  {
   "cell_type": "code",
   "execution_count": 15,
   "metadata": {},
   "outputs": [
    {
     "name": "stdout",
     "output_type": "stream",
     "text": [
      "45.26716969510317 % 54.73283030489683 %\n"
     ]
    }
   ],
   "source": [
    "#check for the balance of the outcome variable\n",
    "ratio=airline_data_dummies['satisfaction_satisfied'].value_counts(normalize=True)*100\n",
    "print(ratio[0],'%',ratio[1],'%')"
   ]
  },
  {
   "cell_type": "code",
   "execution_count": 16,
   "metadata": {
    "id": "pO2AdPR7oBIJ"
   },
   "outputs": [],
   "source": [
    "# Perform the split operation on your data.\n",
    "# Assign the outputs as follows: X_train, X_test, y_train, y_test.\n",
    "X_train, X_test, y_train, y_test = train_test_split(X, y, test_size=0.25, stratify = y, random_state = 0)"
   ]
  },
  {
   "cell_type": "markdown",
   "metadata": {
    "id": "MY0rAjlZAheh"
   },
   "source": [
    "## Step 3: Model building"
   ]
  },
  {
   "cell_type": "markdown",
   "metadata": {
    "id": "v6VpTiBeGvyO"
   },
   "source": [
    "### \"Instantiating\" the XGBClassifer\n",
    "\n",
    "Before fitting the model to the airline dataset, first I'll create the XGB Classifier model and define its objective. I'll use this model to fit and score different hyperparameters during the GridSearch cross-validation process."
   ]
  },
  {
   "cell_type": "code",
   "execution_count": 17,
   "metadata": {
    "id": "IV1ISYSA04c0"
   },
   "outputs": [],
   "source": [
    "# Define xgb to be your XGBClassifier.\n",
    "XGB_clf = XGBClassifier(objective='binary:logistic', random_state=0)"
   ]
  },
  {
   "cell_type": "markdown",
   "metadata": {
    "id": "M7kUCHb504c1"
   },
   "source": [
    "### Defining the parameters for hyperparameter tuning\n",
    "\n",
    "To optimize my `xgboost model`, I start by defining the parameters for hyperparameter tuning. I focus on tuning `max_depth`, `min_child_weight`, `learning_rate`, `n_estimators`, `subsample`, and/or `colsample_bytree`.\n",
    "\n",
    "I plan to use a more limited range for each hyperparameter to ensure timely iterations and efficient model training. For instance, using a single value for each of the six hyperparameters listed will take about one minute to run on this platform.\n",
    "\n",
    "```\n",
    "{\n",
    "    'max_depth': [4],\n",
    "    'min_child_weight': [3],\n",
    "    'learning_rate': [0.1],\n",
    "    'n_estimators': [5],\n",
    "    'subsample': [0.7],\n",
    "    'colsample_bytree': [0.7]\n",
    "}\n",
    "```\n",
    "\n",
    "If I add just one new option, like changing `max_depth: [4]` to `max_depth: [3, 6]` while keeping everything else the same, I can expect the run time to roughly double. If I include two possibilities for each hyperparameter, the run time could extend to around one hour.    "
   ]
  },
  {
   "cell_type": "code",
   "execution_count": 18,
   "metadata": {
    "id": "JjO_QnJz04c1"
   },
   "outputs": [],
   "source": [
    "# Define parameters for tuning as `cv_params`.\n",
    "\n",
    "cv_param = {\n",
    "    'max_depth': [4],\n",
    "    'min_child_weight': [3],\n",
    "    'learning_rate': [0.1],\n",
    "    'n_estimators': [5],\n",
    "    'subsample': [0.7],\n",
    "    'colsample_bytree': [0.7]\n",
    "}"
   ]
  },
  {
   "cell_type": "markdown",
   "metadata": {
    "id": "vuIY2Or4ZV_I"
   },
   "source": [
    "- More estimators will initially improve the model's performance. However, increasing the number of estimators will also considerably increase the computational cost and the time spent during the GridSearch process, and Risk of Overfitting, and there will be diminishing returns as the number of estimators continues to increase."
   ]
  },
  {
   "cell_type": "markdown",
   "metadata": {
    "id": "wX7X5kVN04c2"
   },
   "source": [
    "### Defining how the models will be evaluated\n",
    "\n",
    "Defining how the models will be evaluated for hyperparameter tuning. To yield the best understanding of model performance, utilize a suite of metrics."
   ]
  },
  {
   "cell_type": "code",
   "execution_count": 19,
   "metadata": {
    "id": "orCI7GMj04c2"
   },
   "outputs": [],
   "source": [
    "# Define the criteria as `scoring`.\n",
    "scoring = {'accuracy','precision', 'recall', 'f1'}"
   ]
  },
  {
   "cell_type": "markdown",
   "metadata": {
    "id": "BeAqRwg704c2"
   },
   "source": [
    "### Constructing the GridSearch cross-validation \n",
    "\n",
    "Constructing the GridSearch cross-validation using the model, parameters, and scoring metrics defined. Additionally, I'll define the number of folds and specify *F1-score* to guide the refit strategy."
   ]
  },
  {
   "cell_type": "code",
   "execution_count": 21,
   "metadata": {
    "id": "bu_GHb2N04c3"
   },
   "outputs": [],
   "source": [
    "# Construct the GridSearch.\n",
    "XGB_cv = GridSearchCV(XGB_clf, cv_param, cv=5, scoring=scoring, refit = 'f1')"
   ]
  },
  {
   "cell_type": "markdown",
   "metadata": {
    "id": "9K4LvKdx04c3"
   },
   "source": [
    "### Fitting the GridSearch model to the training data"
   ]
  },
  {
   "cell_type": "code",
   "execution_count": 22,
   "metadata": {
    "id": "kHXvHPNW04c3"
   },
   "outputs": [
    {
     "name": "stdout",
     "output_type": "stream",
     "text": [
      "CPU times: user 1min 8s, sys: 0 ns, total: 1min 8s\n",
      "Wall time: 34.1 s\n"
     ]
    },
    {
     "data": {
      "text/plain": [
       "GridSearchCV(cv=5, error_score=nan,\n",
       "             estimator=XGBClassifier(base_score=None, booster=None,\n",
       "                                     callbacks=None, colsample_bylevel=None,\n",
       "                                     colsample_bynode=None,\n",
       "                                     colsample_bytree=None,\n",
       "                                     early_stopping_rounds=None,\n",
       "                                     enable_categorical=False, eval_metric=None,\n",
       "                                     gamma=None, gpu_id=None, grow_policy=None,\n",
       "                                     importance_type=None,\n",
       "                                     interaction_constraints=None,\n",
       "                                     learning_rate=None, max...\n",
       "                                     objective='binary:logistic',\n",
       "                                     predictor=None, random_state=0,\n",
       "                                     reg_alpha=None, ...),\n",
       "             iid='deprecated', n_jobs=None,\n",
       "             param_grid={'colsample_bytree': [0.7], 'learning_rate': [0.1],\n",
       "                         'max_depth': [4], 'min_child_weight': [3],\n",
       "                         'n_estimators': [5], 'subsample': [0.7]},\n",
       "             pre_dispatch='2*n_jobs', refit='f1', return_train_score=False,\n",
       "             scoring={'recall', 'f1', 'precision', 'accuracy'}, verbose=0)"
      ]
     },
     "execution_count": 22,
     "metadata": {},
     "output_type": "execute_result"
    }
   ],
   "source": [
    "%%time\n",
    "# fit the GridSearch model to training data\n",
    "XGB_cv = XGB_cv.fit(X_train,y_train)\n",
    "XGB_cv"
   ]
  },
  {
   "cell_type": "code",
   "execution_count": 26,
   "metadata": {},
   "outputs": [
    {
     "data": {
      "text/plain": [
       "{'colsample_bytree': 0.7,\n",
       " 'learning_rate': 0.1,\n",
       " 'max_depth': 4,\n",
       " 'min_child_weight': 3,\n",
       " 'n_estimators': 5,\n",
       " 'subsample': 0.7}"
      ]
     },
     "execution_count": 26,
     "metadata": {},
     "output_type": "execute_result"
    }
   ],
   "source": [
    "XGB_cv.best_params_"
   ]
  },
  {
   "cell_type": "markdown",
   "metadata": {
    "id": "KLkpTn0vZ-qa"
   },
   "source": [
    "Through accessing the `best_params_` attribute of the fitted GridSearch model, the optimal set of hyperparameters was:\n",
    "\n",
    "\n",
    "```{'colsample_bytree': 0.7,\n",
    " 'learning_rate': 0.1,\n",
    " 'max_depth': 4,\n",
    " 'min_child_weight': 3,\n",
    " 'n_estimators': 5,\n",
    " 'subsample': 0.7}```"
   ]
  },
  {
   "cell_type": "markdown",
   "metadata": {
    "id": "m5EFtZfXoBIN"
   },
   "source": [
    "### Saving the model for reference using `pickle`"
   ]
  },
  {
   "cell_type": "code",
   "execution_count": 28,
   "metadata": {
    "id": "y1yjbFhJ04c4"
   },
   "outputs": [],
   "source": [
    "# Use `pickle` to save the trained model.\n",
    "pickle.dump(XGB_cv, open('XGB_cv.sav','wb'))"
   ]
  },
  {
   "cell_type": "markdown",
   "metadata": {
    "id": "qgV_6xAQAvgg"
   },
   "source": [
    "## Step 4: Results and evaluation\n",
    "\n",
    "### Formulating predictions on the test set\n",
    "\n",
    "To assess the predictions generated by the model, I utilize various metrics and evaluation techniques from scikit-learn, comparing the actual observed values in the test set with the model's predictions.\n",
    "\n",
    "I start by using the trained model to make predictions on the test set."
   ]
  },
  {
   "cell_type": "code",
   "execution_count": 29,
   "metadata": {
    "id": "gUEgzQW_6oMV"
   },
   "outputs": [],
   "source": [
    "# Apply the model to predict on the test data. Call this output \"y_pred\".\n",
    "y_pred = XGB_cv.predict(X_test)"
   ]
  },
  {
   "cell_type": "markdown",
   "metadata": {
    "id": "XPswDdr1oBIO"
   },
   "source": [
    "### Leveraging metrics to evaluate the model's performance"
   ]
  },
  {
   "cell_type": "code",
   "execution_count": 32,
   "metadata": {
    "id": "INf2Rd_MoBIP"
   },
   "outputs": [
    {
     "name": "stdout",
     "output_type": "stream",
     "text": [
      "Accuracy score: 0.8731136433631044\n",
      "Precision: 0.8753436709556802\n",
      "Recall: 0.895734863830745\n",
      "f1_score: 0.8854218810834863\n"
     ]
    }
   ],
   "source": [
    "# 1. Print the accuracy score.\n",
    "\n",
    "accuracy = metrics.accuracy_score(y_test, y_pred)\n",
    "print('Accuracy score:', accuracy)\n",
    "\n",
    "# 2. Print the precision score.\n",
    "\n",
    "precision = metrics.precision_score(y_test, y_pred)\n",
    "print('Precision:', precision)\n",
    "\n",
    "# 3. Print the recall score.\n",
    "\n",
    "recall = metrics.recall_score(y_test, y_pred)\n",
    "print('Recall:', recall)\n",
    "\n",
    "\n",
    "# 4. Print the f1 score.\n",
    "\n",
    "f1_score = metrics.f1_score(y_test,y_pred)\n",
    "print('f1_score:', f1_score)\n"
   ]
  },
  {
   "cell_type": "markdown",
   "metadata": {},
   "source": [
    "### Metric Interpretations\n",
    "\n",
    "1. **Accuracy Score: 0.8731 (87.31%)**\n",
    "   - This means that approximately 87.31% of the total predictions made by the model were correct. While a high accuracy indicates overall performance, it may not fully represent the model's effectiveness, especially in cases of class imbalance.\n",
    "\n",
    "2. **Precision: 0.8753 (87.53%)**\n",
    "   - This metric indicates that when the model predicts a positive outcome (e.g., customer satisfaction), it is correct about 87.53% of the time. High precision suggests that the model has a low rate of false positives, making it reliable for identifying satisfied customers.\n",
    "\n",
    "3. **Recall: 0.8957 (89.57%)**\n",
    "   - Recall measures the model's ability to identify all actual positive cases. A recall of 89.57% means that the model correctly identifies about 89.57% of all actual satisfied customers. High recall is beneficial as it reduces the risk of missing satisfied customers, which is crucial for retaining customer loyalty.\n",
    "\n",
    "4. **F1 Score: 0.8854 (88.54%)**\n",
    "   - The F1 score is the harmonic mean of precision and recall, balancing both metrics. An F1 score of 88.54% indicates a strong performance, as it reflects the model’s ability to maintain both high precision and high recall. This score is particularly useful in scenarios where there is an uneven class distribution, ensuring that both false positives and false negatives are considered in the model evaluation."
   ]
  },
  {
   "cell_type": "markdown",
   "metadata": {
    "id": "mNzDfI3RoBIQ"
   },
   "source": [
    "### Gaining clarity with the confusion matrix\n",
    "\n",
    "Creating a confusion matrix based on the predicted values for the test set."
   ]
  },
  {
   "cell_type": "code",
   "execution_count": 47,
   "metadata": {
    "id": "ntoJ-YG7oBIQ"
   },
   "outputs": [
    {
     "data": {
      "image/png": "[encoded data removed]",
      "text/plain": [
       "<Figure size 432x288 with 2 Axes>"
      ]
     },
     "metadata": {
      "needs_background": "light"
     },
     "output_type": "display_data"
    }
   ],
   "source": [
    "import matplotlib.pyplot as plt\n",
    "# Construct and display the confusion matrix.\n",
    "\n",
    "# Construct the confusion matrix for the predicted and test values.\n",
    "cm = metrics.confusion_matrix(y_test,y_pred)\n",
    "\n",
    "# Create the display for the confusion matrix.\n",
    "cm_disp = metrics.ConfusionMatrixDisplay(cm,display_labels =XGB_cv.classes_)\n",
    "\n",
    "# Plot the visual in-line.\n",
    "cm_disp.plot()\n",
    "plt.show()"
   ]
  },
  {
   "cell_type": "markdown",
   "metadata": {
    "id": "aLkF5znkNk7m"
   },
   "source": [
    "### Confusion Matrix Interpretation\n",
    "\n",
    "The confusion matrix provides a detailed breakdown of the model's predictions compared to the actual outcomes. The following values were obtained:\n",
    "\n",
    "- **True Positives (TP): 16,000**\n",
    "  - This represents the number of satisfied customers that the model correctly predicted as satisfied. A high TP value indicates that the model is effective in identifying customers who are genuinely satisfied.\n",
    "\n",
    "- **False Positives (FP): 2,300**\n",
    "  - This indicates the number of unsatisfied customers that the model incorrectly predicted as satisfied. While a moderate FP count suggests some misclassifications, it's essential to monitor this value as it reflects the model's tendency to overpredict satisfaction.\n",
    "\n",
    "- **True Negatives (TN): 12,000**\n",
    "  - This value signifies the number of unsatisfied customers that the model correctly predicted as unsatisfied. A high TN count demonstrates the model's capability to accurately identify customers who are not satisfied.\n",
    "\n",
    "- **False Negatives (FN): 1,900**\n",
    "  - This indicates the number of satisfied customers that the model incorrectly predicted as unsatisfied. Although this FN count is lower than the FP count, it's important to minimize it to ensure that satisfied customers are not overlooked."
   ]
  },
  {
   "cell_type": "markdown",
   "metadata": {
    "id": "_eSapvg504c8"
   },
   "source": [
    "### Visualizing most important features\n",
    "\n",
    "`xgboost` has a built-in function to visualize the relative importance of the features in the model using `matplotlib`. \n",
    "Outputting and examining the feature importance of the model."
   ]
  },
  {
   "cell_type": "code",
   "execution_count": 63,
   "metadata": {
    "id": "Hnpvuqt204c8"
   },
   "outputs": [
    {
     "data": {
      "text/plain": [
       "<Figure size 864x432 with 0 Axes>"
      ]
     },
     "metadata": {},
     "output_type": "display_data"
    },
    {
     "data": {
      "image/png": "[encoded data removed]",
      "text/plain": [
       "<Figure size 432x288 with 1 Axes>"
      ]
     },
     "metadata": {
      "needs_background": "light"
     },
     "output_type": "display_data"
    }
   ],
   "source": [
    "# Plot the relative feature importance of the predictor variables in the model.\n",
    "\n",
    "plt.figure(figsize=(12, 6))  # Adjust width and height as needed\n",
    "plot_importance(XGB_cv.best_estimator_)\n",
    "plt.show()"
   ]
  },
  {
   "cell_type": "markdown",
   "metadata": {
    "id": "bietXsnWc5Q7"
   },
   "source": [
    "### Key features identified:\n",
    "1. `Seat comfort`\n",
    "2. `Inflight entertainment`\n",
    "3. `Class_Business`\n",
    "4. `Online support`\n",
    "\n",
    "- By a wide margin, \"seat comfort\" rated as most important in the model.The type of seating is very different between first class and coach seating. However, the perks of being in first class also go beyond the seating type, so perhaps that is an underlying explanation of this feature's importance.\n",
    "\n",
    "- Surprisingly, delays (both arrival and departure) did not score as highly important."
   ]
  },
  {
   "cell_type": "markdown",
   "metadata": {
    "id": "PaKUSbqDW28K"
   },
   "source": [
    "### Comparing models\n",
    "\n",
    "Creating a table of results to compare the models performance `Tuned Decision Tree`, `Tuned Random Forest`, `Tuned XGBoost`."
   ]
  },
  {
   "cell_type": "code",
   "execution_count": 65,
   "metadata": {
    "id": "6L7AgdeldsKZ"
   },
   "outputs": [
    {
     "data": {
      "text/html": [
       "<div>\n",
       "<style scoped>\n",
       "    .dataframe tbody tr th:only-of-type {\n",
       "        vertical-align: middle;\n",
       "    }\n",
       "\n",
       "    .dataframe tbody tr th {\n",
       "        vertical-align: top;\n",
       "    }\n",
       "\n",
       "    .dataframe thead th {\n",
       "        text-align: right;\n",
       "    }\n",
       "</style>\n",
       "<table border=\"1\" class=\"dataframe\">\n",
       "  <thead>\n",
       "    <tr style=\"text-align: right;\">\n",
       "      <th></th>\n",
       "      <th>Model</th>\n",
       "      <th>F1</th>\n",
       "      <th>Recall</th>\n",
       "      <th>Precision</th>\n",
       "      <th>Accuracy</th>\n",
       "    </tr>\n",
       "  </thead>\n",
       "  <tbody>\n",
       "    <tr>\n",
       "      <th>0</th>\n",
       "      <td>Tuned Decision Tree</td>\n",
       "      <td>0.945422</td>\n",
       "      <td>0.935863</td>\n",
       "      <td>0.955197</td>\n",
       "      <td>0.940864</td>\n",
       "    </tr>\n",
       "    <tr>\n",
       "      <th>1</th>\n",
       "      <td>Tuned Random Forest</td>\n",
       "      <td>0.947306</td>\n",
       "      <td>0.944501</td>\n",
       "      <td>0.950128</td>\n",
       "      <td>0.942450</td>\n",
       "    </tr>\n",
       "    <tr>\n",
       "      <th>2</th>\n",
       "      <td>Tuned XGBoost</td>\n",
       "      <td>0.885422</td>\n",
       "      <td>0.895735</td>\n",
       "      <td>0.875344</td>\n",
       "      <td>0.873114</td>\n",
       "    </tr>\n",
       "  </tbody>\n",
       "</table>\n",
       "</div>"
      ],
      "text/plain": [
       "                 Model        F1    Recall  Precision  Accuracy\n",
       "0  Tuned Decision Tree  0.945422  0.935863   0.955197  0.940864\n",
       "1  Tuned Random Forest  0.947306  0.944501   0.950128  0.942450\n",
       "2        Tuned XGBoost  0.885422  0.895735   0.875344  0.873114"
      ]
     },
     "execution_count": 65,
     "metadata": {},
     "output_type": "execute_result"
    }
   ],
   "source": [
    "# Create a table of results to compare model performance.\n",
    "\n",
    "XGB_df = pd.DataFrame({\n",
    "    'Model': [\"Tuned Decision Tree\", \"Tuned Random Forest\", \"Tuned XGBoost\"],\n",
    "                      'F1': [0.945422, 0.947306, f1_score],\n",
    "                      'Recall': [0.935863, 0.944501, recall],\n",
    "                      'Precision': [0.955197, 0.950128, precision],\n",
    "                      'Accuracy': [0.940864, 0.942450, accuracy] \n",
    "})\n",
    "\n",
    "XGB_df\n",
    "\n"
   ]
  },
  {
   "cell_type": "markdown",
   "metadata": {
    "id": "xur2FC5xAzp0"
   },
   "source": [
    "## Conclusion\n",
    "\n",
    "### Key Insights with Metric Interpretations\n",
    "\n",
    "1. **Model Performance**: The `Tuned Random Forest` model achieved a remarkable `F1 score of 0.947`, indicating a high balance between precision and recall. The `recall of 0.945` means that the model correctly identifies approximately `94.5%` of satisfied customers, showcasing its effectiveness in capturing true positives. A `precision of 0.950` indicates that when the model predicts a customer is satisfied, it is correct about `95%` of the time. Finally, an `accuracy of 0.942` reflects that about `94.2%` of all predictions made by the model are correct, highlighting its overall reliability.\n",
    "\n",
    "\n",
    "2. **Confusion Matrix Insights**: The confusion matrix breakdown reveals that the model identified `16,000` satisfied customers `(True Positives)`, which illustrates a strong ability to recognize the majority of satisfied customers. The `12,000 True Negatives` indicate a solid performance in correctly identifying unsatisfied customers. However, the presence of `2,300 False Positives` signifies that some unsatisfied customers were incorrectly classified as satisfied, while `1,900 False Negatives` indicates missed opportunities where satisfied customers were not recognized. The higher True Positive rate suggests that the model is quite effective in recognizing satisfied customers, yet the misclassifications point to areas needing improvement for more accurate predictions.\n",
    "\n",
    "3. **Key Features Identified**: The analysis highlighted several key features impacting customer satisfaction: \n",
    "   - **Seat Comfort**: By a wide margin, this feature rated as the most important in the model. The differences in seating between first class and coach likely explain its significance, as first class offers more than just seating type—additional perks may contribute to overall satisfaction.\n",
    "   - **Inflight Entertainment**: Another important feature, suggesting that entertainment options play a significant role in the flying experience.\n",
    "   - **Class_Business**: Indicates that flying business class correlates with higher satisfaction levels.\n",
    "   - **Online Support**: Highlights the importance of support services in enhancing customer experiences.\n",
    "\n",
    "   Interestingly, **delays (both arrival and departure)** did not score as highly important, suggesting that factors beyond timeliness significantly influence customer satisfaction.\n",
    "\n",
    "4. **Comparison with Other Models**: The `Tuned Decision Tree` performed closely to the Random Forest, with an `F1 score of 0.945`. This suggests that it also maintains a good balance between precision and recall, making it a strong contender. In contrast, the `Tuned XGBoost` demonstrated lower metrics, with an `F1 score of 0.885` and `accuracy of 0.873`. This indicates that while the model still performs decently, it is less effective at correctly identifying satisfied customers compared to the other two models. The limited hyperparameter tuning for XGBoost likely restricted its optimization, contributing to its lower performance.\n",
    "\n",
    "### Summary for Stakeholders\n",
    "- The **Tuned Random Forest** model demonstrates strong performance metrics, with high precision, recall, and accuracy rates. Given its superior performance across multiple metrics, I recommend the Tuned Random Forest model for predicting customer satisfaction. It demonstrates robust accuracy and reliability, making it suitable for operational use. \n",
    "\n",
    "- The **Tuned Decision Tree** also presents a strong alternative and could be considered if simpler models are desired for easier interpretability. Meanwhile, the **Tuned XGBoost** model's performance may be improved with more comprehensive hyperparameter tuning, exploring a wider range of parameters could help maximize its predictive capabilities.\n",
    "\n",
    "\n",
    "- Key features influencing customer satisfaction, particularly **seat comfort**, emphasize the need to focus on enhancing passenger experience through improved seating and entertainment options. Notably, delays were not as impactful on satisfaction scores, indicating that the airline may have opportunities to enhance overall customer experience by addressing other contributing factors.\n",
    "\n",
    "*These insights provide a roadmap for strategic decisions aimed at improving customer satisfaction and refining model performance for future predictions*\n"
   ]
  },
  {
   "cell_type": "code",
   "execution_count": null,
   "metadata": {},
   "outputs": [],
   "source": []
  }
 ],
 "metadata": {
  "colab": {
   "collapsed_sections": [],
   "provenance": []
  },
  "kernelspec": {
   "display_name": "Python 3 (ipykernel)",
   "language": "python",
   "name": "python3"
  },
  "language_info": {
   "codemirror_mode": {
    "name": "ipython",
    "version": 3
   },
   "file_extension": ".py",
   "mimetype": "text/x-python",
   "name": "python",
   "nbconvert_exporter": "python",
   "pygments_lexer": "ipython3",
   "version": "3.12.2"
  }
 },
 "nbformat": 4,
 "nbformat_minor": 4
}
